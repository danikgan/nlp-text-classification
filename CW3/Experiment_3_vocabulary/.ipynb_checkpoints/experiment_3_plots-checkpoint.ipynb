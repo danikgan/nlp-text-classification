{
 "cells": [
  {
   "cell_type": "code",
   "execution_count": null,
   "metadata": {},
   "outputs": [],
   "source": [
    "# load environment \n",
    "%matplotlib notebook\n",
    "\n",
    "import matplotlib.pylab as plt\n",
    "import numpy as np\n",
    "import scipy.optimize\n",
    "\n",
    "# columns:\n",
    "# vocab_size (in source),     accuracy for each epoch on the source,    accuracy for each epoch on the target\n",
    "# vocab_size (in source + target),     accuracy for each epoch on the source,    accuracy for each epoch on the target\n",
    "# similarity, topics source, topics target\n",
    "\n",
    "\n",
    "# for the attention model\n",
    "data = [\n",
    "    [13418, 90.401786, 80.189732, 15473, 88.839286, 73.604911, 0.12785162534084973, [1,2,3,4], [5,6,7,8]],\n",
    "    [12948, 94.084821, 73.158482, 15325, 94.252232, 66.238839, 0.27093657830884765, [8,11,9,1], [7,3,2,5]],\n",
    "    [13218, 86.607143, 90.848214, 15455, 84.375000, 78.794643, 0.01756897297169059, [1,3,5,4],[9,6,10,8]],\n",
    "    [13310, 94.029018, 78.794643, 15346, 93.917411, 76.785714, 0.11972715360820518,[10,14,6,4],[11,12,7,8]],\n",
    "    [12674, 94.754464, 85.267857, 15084, 93.024554, 81.194196, 0.2249535833338481,[4,11,1,8],[14,13,2,5]],\n",
    "    [12469, 94.977679, 72.042411, 15133, 95.814732, 71.484375, 0.256312190417213, [4,11,12,7], [14,13,1,6]]\n",
    "]\n",
    "\n",
    "\n",
    "# Plot the data\n",
    "fig = plt.figure()\n",
    "plt.title('Transfereability depending on the percentage of the target dataset')\n",
    "plt.xlabel('Size')\n",
    "plt.ylabel('accuracy on the test set after 10 epochs')\n",
    "\n",
    "vocab_source_only = np.mean([item[0] for item in data])\n",
    "vocab_source_target = np.mean([item[3] for item in data])\n",
    "\n",
    "s_train = np.mean([item[1] for item in data])\n",
    "s_transfer = np.mean([item[2] for item in data])\n",
    "\n",
    "st_train = np.mean([item[4] for item in data])\n",
    "st_transfer = np.mean([item[5] for item in data])\n",
    "\n",
    "seaborn.barplot()\n",
    "\n",
    "plt.plot(xdata, ydata, '*')"
   ]
  }
 ],
 "metadata": {
  "kernelspec": {
   "display_name": "Python 3",
   "language": "python",
   "name": "python3"
  },
  "language_info": {
   "codemirror_mode": {
    "name": "ipython",
    "version": 3
   },
   "file_extension": ".py",
   "mimetype": "text/x-python",
   "name": "python",
   "nbconvert_exporter": "python",
   "pygments_lexer": "ipython3",
   "version": "3.6.5"
  },
  "varInspector": {
   "cols": {
    "lenName": 16,
    "lenType": 16,
    "lenVar": 40
   },
   "kernels_config": {
    "python": {
     "delete_cmd_postfix": "",
     "delete_cmd_prefix": "del ",
     "library": "var_list.py",
     "varRefreshCmd": "print(var_dic_list())"
    },
    "r": {
     "delete_cmd_postfix": ") ",
     "delete_cmd_prefix": "rm(",
     "library": "var_list.r",
     "varRefreshCmd": "cat(var_dic_list()) "
    }
   },
   "types_to_exclude": [
    "module",
    "function",
    "builtin_function_or_method",
    "instance",
    "_Feature"
   ],
   "window_display": false
  }
 },
 "nbformat": 4,
 "nbformat_minor": 2
}
